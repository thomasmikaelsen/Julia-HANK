{
 "cells": [
  {
   "cell_type": "code",
   "execution_count": 1,
   "id": "brown-crest",
   "metadata": {},
   "outputs": [],
   "source": [
    "import numpy as np\n",
    "import numba\n",
    "from scipy import optimize\n",
    "import matplotlib.pyplot as plt\n",
    "\n",
    "# some useful plot defaults\n",
    "plt.rcParams.update({'font.size' : 20, 'lines.linewidth' : 3.5, 'figure.figsize' : (13,7)})"
   ]
  },
  {
   "cell_type": "code",
   "execution_count": 2,
   "id": "scientific-daniel",
   "metadata": {},
   "outputs": [],
   "source": [
    "def discretize_assets(amin, amax, n_a):\n",
    "    # find maximum ubar of uniform grid corresponding to desired maximum amax of asset grid\n",
    "    ubar = np.log(1 + np.log(1 + amax - amin))\n",
    "    \n",
    "    # make uniform grid\n",
    "    u_grid = np.linspace(0, ubar, n_a)\n",
    "    \n",
    "    # double-exponentiate uniform grid and add amin to get grid from amin to amax\n",
    "    return amin + np.exp(np.exp(u_grid) - 1) - 1"
   ]
  },
  {
   "cell_type": "code",
   "execution_count": 3,
   "id": "dangerous-snapshot",
   "metadata": {},
   "outputs": [
    {
     "name": "stdout",
     "output_type": "stream",
     "text": [
      "[0.00e+00 4.98e-02 1.05e-01 1.65e-01 2.32e-01 3.07e-01 3.90e-01 4.82e-01\n",
      " 5.86e-01 7.03e-01 8.34e-01 9.83e-01 1.15e+00 1.34e+00 1.57e+00 1.82e+00\n",
      " 2.11e+00 2.45e+00 2.85e+00 3.31e+00 3.86e+00 4.51e+00 5.29e+00 6.21e+00\n",
      " 7.34e+00 8.70e+00 1.04e+01 1.24e+01 1.50e+01 1.82e+01 2.23e+01 2.75e+01\n",
      " 3.42e+01 4.29e+01 5.43e+01 6.96e+01 9.01e+01 1.18e+02 1.57e+02 2.11e+02\n",
      " 2.87e+02 3.97e+02 5.58e+02 7.97e+02 1.16e+03 1.71e+03 2.58e+03 3.97e+03\n",
      " 6.23e+03 1.00e+04]\n"
     ]
    }
   ],
   "source": [
    "a_grid = discretize_assets(0, 10_000, 50)\n",
    "with np.printoptions(precision=2):\n",
    "    print(a_grid)"
   ]
  },
  {
   "cell_type": "code",
   "execution_count": 4,
   "id": "typical-baking",
   "metadata": {},
   "outputs": [],
   "source": [
    "def rouwenhorst_Pi(N, p):\n",
    "    # base case Pi_2\n",
    "    Pi = np.array([[p, 1 - p],\n",
    "                   [1 - p, p]])\n",
    "    \n",
    "    # recursion to build up from Pi_2 to Pi_N\n",
    "    for n in range(3, N + 1):\n",
    "        Pi_old = Pi\n",
    "        Pi = np.zeros((n, n))\n",
    "        \n",
    "        Pi[:-1, :-1] += p * Pi_old\n",
    "        Pi[:-1, 1:] += (1 - p) * Pi_old\n",
    "        Pi[1:, :-1] += (1 - p) * Pi_old\n",
    "        Pi[1:, 1:] += p * Pi_old\n",
    "        Pi[1:-1, :] /= 2\n",
    "        \n",
    "    return Pi"
   ]
  },
  {
   "cell_type": "code",
   "execution_count": 5,
   "id": "stopped-socket",
   "metadata": {},
   "outputs": [],
   "source": [
    "def stationary_markov(Pi, tol=1E-14):\n",
    "    # start with uniform distribution over all states\n",
    "    n = Pi.shape[0]\n",
    "    pi = np.full(n, 1/n)\n",
    "    \n",
    "    # update distribution using Pi until successive iterations differ by less than tol\n",
    "    for _ in range(10_000):\n",
    "        pi_new = Pi.T @ pi\n",
    "        if np.max(np.abs(pi_new - pi)) < tol:\n",
    "            return pi_new\n",
    "        pi = pi_new"
   ]
  },
  {
   "cell_type": "code",
   "execution_count": 6,
   "id": "cross-response",
   "metadata": {},
   "outputs": [],
   "source": [
    "def discretize_income(rho, sigma, n_s):\n",
    "    # choose inner-switching probability p to match persistence rho\n",
    "    p = (1+rho)/2\n",
    "    \n",
    "    # start with states from 0 to n_s-1, scale by alpha to match standard deviation sigma\n",
    "    s = np.arange(n_s)\n",
    "    alpha = 2*sigma/np.sqrt(n_s-1)\n",
    "    s = alpha*s\n",
    "    \n",
    "    # obtain Markov transition matrix Pi and its stationary distribution\n",
    "    Pi = rouwenhorst_Pi(n_s, p)\n",
    "    pi = stationary_markov(Pi)\n",
    "    \n",
    "    # s is log income, get income y and scale so that mean is 1\n",
    "    y = np.exp(s)\n",
    "    y /= np.vdot(pi, y)\n",
    "    \n",
    "    return y, pi, Pi"
   ]
  },
  {
   "cell_type": "code",
   "execution_count": 38,
   "id": "religious-approach",
   "metadata": {},
   "outputs": [
    {
     "data": {
      "text/plain": [
       "3.571128845214793e-07"
      ]
     },
     "execution_count": 38,
     "metadata": {},
     "output_type": "execute_result"
    }
   ],
   "source": [
    "y, pi, Pi = discretize_income(0.975, 0.7, 7)\n",
    "y, pi"
   ]
  },
  {
   "cell_type": "code",
   "execution_count": 8,
   "id": "anonymous-pattern",
   "metadata": {},
   "outputs": [
    {
     "data": {
      "text/plain": [
       "1.0"
      ]
     },
     "execution_count": 8,
     "metadata": {},
     "output_type": "execute_result"
    }
   ],
   "source": [
    "np.vdot(pi, y)"
   ]
  },
  {
   "cell_type": "code",
   "execution_count": 55,
   "id": "modern-science",
   "metadata": {},
   "outputs": [],
   "source": [
    "def backward_iteration(Va, Pi, a_grid, y, r, beta, eis):\n",
    "    # step 1: discounting and expectations\n",
    "    Wa = (beta * Pi) @ Va\n",
    "    \n",
    "    # step 2: solving for asset policy using the first-order condition\n",
    "    c_endog = Wa**(-eis)\n",
    "    coh = y[:, np.newaxis] + (1+r)*a_grid\n",
    "    \n",
    "    a = np.empty_like(coh)\n",
    "    for s in range(len(y)):\n",
    "        a[s, :] = np.interp(coh[s, :], c_endog[s, :] + a_grid, a_grid)\n",
    "        \n",
    "    # step 3: enforcing the borrowing constraint and backing out consumption\n",
    "    a = np.maximum(a, a_grid[0])\n",
    "    c = coh - a\n",
    "    \n",
    "    # step 4: using the envelope condition to recover the derivative of the value function\n",
    "    Va = (1+r) * c**(-1/eis)\n",
    "    \n",
    "    return Va, a, c"
   ]
  },
  {
   "cell_type": "code",
   "execution_count": 10,
   "id": "recreational-tongue",
   "metadata": {},
   "outputs": [],
   "source": [
    "def policy_ss(Pi, a_grid, y, r, beta, eis, tol=1E-9):\n",
    "    # initial guess for Va: assume consumption 5% of cash-on-hand, then get Va from envelope condition\n",
    "    coh = y[:, np.newaxis] + (1+r)*a_grid\n",
    "    c = 0.05*coh\n",
    "    Va = (1+r) * c**(-1/eis)\n",
    "    \n",
    "    # iterate until maximum distance between two iterations falls below tol, fail-safe max of 10,000 iterations\n",
    "    for it in range(10_000):\n",
    "        Va, a, c = backward_iteration(Va, Pi, a_grid, y, r, beta, eis)\n",
    "        \n",
    "        # after iteration 0, can compare new policy function to old one\n",
    "        if it > 0 and np.max(np.abs(a - a_old)) < tol:\n",
    "            return Va, a, c\n",
    "        \n",
    "        a_old = a"
   ]
  },
  {
   "cell_type": "code",
   "execution_count": 11,
   "id": "massive-vermont",
   "metadata": {},
   "outputs": [],
   "source": [
    "a_grid = discretize_assets(0, 10_000, 500)\n",
    "y, pi, Pi = discretize_income(0.975, 0.7, 7)\n",
    "r = 0.01/4\n",
    "beta = 1-0.08/4\n",
    "eis = 1"
   ]
  },
  {
   "cell_type": "code",
   "execution_count": 132,
   "id": "thermal-wrapping",
   "metadata": {},
   "outputs": [
    {
     "data": {
      "text/plain": [
       "array([[9.27305052e-01, 7.04282318e-02, 2.22874151e-03, 3.76158905e-05,\n",
       "        3.57112885e-07, 1.80816650e-09, 3.81469727e-12],\n",
       "       [1.17380386e-02, 9.28047966e-01, 5.87090011e-02, 1.48606575e-03,\n",
       "        1.88094521e-05, 1.19041443e-07, 3.01361084e-10],\n",
       "       [1.48582767e-04, 2.34836004e-02, 9.28493857e-01, 4.69747253e-02,\n",
       "        8.91687069e-04, 7.52378082e-06, 2.38075256e-08],\n",
       "       [1.88079453e-06, 4.45819725e-04, 3.52310439e-02, 9.28642511e-01,\n",
       "        3.52310439e-02, 4.45819725e-04, 1.88079453e-06],\n",
       "       [2.38075256e-08, 7.52378082e-06, 8.91687069e-04, 4.69747253e-02,\n",
       "        9.28493857e-01, 2.34836004e-02, 1.48582767e-04],\n",
       "       [3.01361084e-10, 1.19041443e-07, 1.88094521e-05, 1.48606575e-03,\n",
       "        5.87090011e-02, 9.28047966e-01, 1.17380386e-02],\n",
       "       [3.81469727e-12, 1.80816650e-09, 3.57112885e-07, 3.76158905e-05,\n",
       "        2.22874151e-03, 7.04282318e-02, 9.27305052e-01]])"
      ]
     },
     "execution_count": 132,
     "metadata": {},
     "output_type": "execute_result"
    }
   ],
   "source": [
    "Pi"
   ]
  },
  {
   "cell_type": "code",
   "execution_count": 133,
   "id": "innovative-spray",
   "metadata": {},
   "outputs": [],
   "source": [
    "Va, a, c = policy_ss(Pi, a_grid, y, r, beta, eis)"
   ]
  },
  {
   "cell_type": "code",
   "execution_count": 137,
   "id": "searching-shooting",
   "metadata": {},
   "outputs": [
    {
     "data": {
      "text/plain": [
       "1.8713825357966836"
      ]
     },
     "execution_count": 137,
     "metadata": {},
     "output_type": "execute_result"
    }
   ],
   "source": [
    "Va[2,66]"
   ]
  },
  {
   "cell_type": "code",
   "execution_count": 69,
   "id": "funded-roads",
   "metadata": {},
   "outputs": [
    {
     "data": {
      "text/plain": [
       "[<matplotlib.lines.Line2D at 0x7fbf988f6910>]"
      ]
     },
     "execution_count": 69,
     "metadata": {},
     "output_type": "execute_result"
    },
    {
     "data": {
      "image/png": "[encoded data removed]",
      "text/plain": [
       "<Figure size 936x504 with 1 Axes>"
      ]
     },
     "metadata": {
      "needs_background": "light"
     },
     "output_type": "display_data"
    }
   ],
   "source": [
    "plt.plot(a_grid, c[1,:])"
   ]
  },
  {
   "cell_type": "code",
   "execution_count": 72,
   "id": "frank-jason",
   "metadata": {},
   "outputs": [],
   "source": [
    "mpcs = np.empty_like(c)\n",
    "    \n",
    "# symmetric differences away from boundaries\n",
    "mpcs[:, 1:-1] = (c[:, 2:] - c[:, 0:-2]) / (a_grid[2:] - a_grid[:-2]) / (1+r)\n",
    "\n",
    "# asymmetric first differences at boundaries\n",
    "mpcs[:, 0]  = (c[:, 1] - c[:, 0]) / (a_grid[1] - a_grid[0]) / (1+r)\n",
    "mpcs[:, -1] = (c[:, -1] - c[:, -2]) / (a_grid[-1] - a_grid[-2]) / (1+r)\n",
    "\n",
    "# special case of constrained\n",
    "mpcs[a == a_grid[0]] = 1"
   ]
  },
  {
   "cell_type": "code",
   "execution_count": 94,
   "id": "demonstrated-shame",
   "metadata": {},
   "outputs": [],
   "source": [
    "def get_lottery(a, a_grid):\n",
    "    # step 1: find the i such that a' lies between gridpoints a_i and a_(i+1)\n",
    "    a_i = np.searchsorted(a_grid, a) - 1\n",
    "    \n",
    "    # step 2: obtain lottery probabilities pi\n",
    "    a_pi = (a_grid[a_i+1] - a)/(a_grid[a_i+1] - a_grid[a_i])\n",
    "    \n",
    "    return a_i, a_pi"
   ]
  },
  {
   "cell_type": "code",
   "execution_count": 198,
   "id": "frank-shoot",
   "metadata": {},
   "outputs": [
    {
     "data": {
      "text/plain": [
       "((7, 500), dtype('int64'), (7, 500), dtype('float64'))"
      ]
     },
     "execution_count": 198,
     "metadata": {},
     "output_type": "execute_result"
    }
   ],
   "source": [
    "a_i, a_pi = get_lottery(a, a_grid)\n",
    "a_i.shape, a_i.dtype, a_pi.shape, a_pi.dtype"
   ]
  },
  {
   "cell_type": "code",
   "execution_count": 83,
   "id": "young-review",
   "metadata": {},
   "outputs": [],
   "source": [
    "@numba.njit\n",
    "def forward_policy(D, a_i, a_pi):\n",
    "    Dend = np.zeros_like(D)\n",
    "    for s in range(a_i.shape[0]):\n",
    "        for a in range(a_i.shape[1]):\n",
    "            # send pi(s,a) of the mass to gridpoint i(s,a)\n",
    "            Dend[s, a_i[s,a]] += a_pi[s,a]*D[s,a]\n",
    "            \n",
    "            # send 1-pi(s,a) of the mass to gridpoint i(s,a)+1\n",
    "            Dend[s, a_i[s,a]+1] += (1-a_pi[s,a])*D[s,a]\n",
    "            \n",
    "    return Dend"
   ]
  },
  {
   "cell_type": "code",
   "execution_count": 84,
   "id": "legislative-flashing",
   "metadata": {},
   "outputs": [],
   "source": [
    "def forward_iteration(D, Pi, a_i, a_pi):\n",
    "    Dend = forward_policy(D, a_i, a_pi)    \n",
    "    return Pi.T @ Dend"
   ]
  },
  {
   "cell_type": "code",
   "execution_count": 85,
   "id": "described-patch",
   "metadata": {},
   "outputs": [],
   "source": [
    "def distribution_ss(Pi, a, a_grid, tol=1E-10):\n",
    "    a_i, a_pi = get_lottery(a, a_grid)\n",
    "    \n",
    "    # as initial D, use stationary distribution for s, plus uniform over a\n",
    "    pi = stationary_markov(Pi)\n",
    "    D = pi[:, np.newaxis] * np.ones_like(a_grid) / len(a_grid)\n",
    "    \n",
    "    # now iterate until convergence to acceptable threshold\n",
    "    for _ in range(10_000):\n",
    "        D_new = forward_iteration(D, Pi, a_i, a_pi)\n",
    "        if np.max(np.abs(D_new - D)) < tol:\n",
    "            return D_new\n",
    "        D = D_new"
   ]
  },
  {
   "cell_type": "code",
   "execution_count": 205,
   "id": "dressed-radius",
   "metadata": {},
   "outputs": [
    {
     "data": {
      "text/plain": [
       "array([5.33914237e-114, 2.94148691e-115, 1.44236406e-116, 6.19666168e-118,\n",
       "       2.28487726e-119, 7.03004560e-121, 1.73267679e-122, 3.20712164e-124,\n",
       "       3.96280357e-126, 2.45156682e-128])"
      ]
     },
     "execution_count": 205,
     "metadata": {},
     "output_type": "execute_result"
    }
   ],
   "source": [
    "D = distribution_ss(Pi, a, a_grid)\n",
    "D[6,490:500]"
   ]
  },
  {
   "cell_type": "code",
   "execution_count": 89,
   "id": "manual-india",
   "metadata": {},
   "outputs": [
    {
     "data": {
      "image/png": "[encoded data removed]",
      "text/plain": [
       "<Figure size 936x504 with 1 Axes>"
      ]
     },
     "metadata": {
      "needs_background": "light"
     },
     "output_type": "display_data"
    }
   ],
   "source": [
    "for s, ys in enumerate(y):\n",
    "    plt.plot(a_grid[:150], D[s][:150].cumsum()/pi[s], label=f'y={ys:.2f}')\n",
    "plt.legend();"
   ]
  },
  {
   "cell_type": "code",
   "execution_count": 91,
   "id": "lightweight-minutes",
   "metadata": {},
   "outputs": [
    {
     "data": {
      "text/plain": [
       "array([0.08867276, 0.08891896, 0.08909341, 0.08921533, 0.08932786,\n",
       "       0.08943898, 0.089526  , 0.08960653, 0.08968062, 0.08975081,\n",
       "       0.08982124, 0.08989139, 0.08994954, 0.09000345, 0.09005593,\n",
       "       0.09010731, 0.0901622 , 0.0902152 , 0.09026206, 0.09030716,\n",
       "       0.09035043, 0.09039237, 0.09043349, 0.09047399, 0.09051586,\n",
       "       0.09055573, 0.09059378, 0.09063091, 0.09066703, 0.09070201,\n",
       "       0.09073607, 0.09076966, 0.0908028 , 0.09083549, 0.0908677 ,\n",
       "       0.09089949, 0.0909307 , 0.09096147, 0.09099143, 0.09102045,\n",
       "       0.09104901, 0.09107729, 0.09110527, 0.09113297, 0.09116032,\n",
       "       0.09118724, 0.09121367, 0.09123953, 0.09126496, 0.09129005,\n",
       "       0.09131483, 0.09133939, 0.09136368, 0.09138778, 0.09141167,\n",
       "       0.09143525, 0.09145847, 0.09148129, 0.09150376, 0.09152595,\n",
       "       0.09154786, 0.09156957, 0.09159112, 0.09161247, 0.09163368,\n",
       "       0.09165473, 0.09167553, 0.09169603, 0.09171618, 0.09173609,\n",
       "       0.09175582, 0.09177534, 0.09179469, 0.09181393, 0.09183306,\n",
       "       0.09185207, 0.09187092, 0.09188958, 0.09190796, 0.09192605,\n",
       "       0.09194398, 0.09196179, 0.09197944, 0.09199696, 0.09201442,\n",
       "       0.09203181, 0.0920491 , 0.09206624, 0.09208321, 0.09209987,\n",
       "       0.09211634, 0.09213274, 0.09214904, 0.09216521, 0.09218131,\n",
       "       0.09219739, 0.09221343, 0.09222934, 0.09224519, 0.09226068,\n",
       "       0.092276  , 0.09229124, 0.09230643, 0.09232152, 0.09233655,\n",
       "       0.0923516 , 0.09236665, 0.09238142, 0.09239602, 0.09241053,\n",
       "       0.09242492, 0.0924392 , 0.09245349, 0.09246772, 0.09248189,\n",
       "       0.09249615, 0.09251042, 0.0925243 , 0.09253806, 0.09255178,\n",
       "       0.09256535, 0.09257893, 0.09259253, 0.09260605, 0.0926195 ,\n",
       "       0.09263332, 0.0926466 , 0.0926597 , 0.09267278, 0.09268573,\n",
       "       0.0926987 , 0.09271172, 0.09272464, 0.09273747, 0.09275022,\n",
       "       0.09276283, 0.09277531, 0.09278771, 0.09280007, 0.09281249,\n",
       "       0.09282496, 0.09283725, 0.09284944, 0.09286156, 0.0928735 ,\n",
       "       0.09288537, 0.09289718, 0.09290895, 0.09292099, 0.09293276])"
      ]
     },
     "execution_count": 91,
     "metadata": {},
     "output_type": "execute_result"
    }
   ],
   "source": [
    "D[1][:150].cumsum()"
   ]
  },
  {
   "cell_type": "code",
   "execution_count": 93,
   "id": "essential-malawi",
   "metadata": {},
   "outputs": [
    {
     "name": "stdout",
     "output_type": "stream",
     "text": [
      "Ave assets at y=0.14: 0.02\n",
      "Ave assets at y=0.25: 0.05\n",
      "Ave assets at y=0.44: 0.16\n",
      "Ave assets at y=0.79: 0.56\n",
      "Ave assets at y=1.39: 2.19\n",
      "Ave assets at y=2.46: 7.01\n",
      "Ave assets at y=4.36: 17.67\n"
     ]
    }
   ],
   "source": [
    "for s, ys in enumerate(y):\n",
    "    print(f'Ave assets at y={ys:.2f}: {np.vdot(a_grid, D[s, :]) / pi[s]:.2f}')"
   ]
  },
  {
   "cell_type": "code",
   "execution_count": 128,
   "id": "phantom-senior",
   "metadata": {},
   "outputs": [
    {
     "name": "stdout",
     "output_type": "stream",
     "text": [
      "Total assets at y=0.14 (1.6% of hh)\t: 0.00\n",
      "Total assets at y=0.25 (9.4% of hh)\t: 0.00\n",
      "Total assets at y=0.44 (23.4% of hh)\t: 0.04\n",
      "Total assets at y=0.79 (31.2% of hh)\t: 0.17\n",
      "Total assets at y=1.39 (23.4% of hh)\t: 0.51\n",
      "Total assets at y=2.46 (9.4% of hh)\t: 0.66\n",
      "Total assets at y=4.36 (1.6% of hh)\t: 0.28\n"
     ]
    }
   ],
   "source": [
    "for s, ys in enumerate(y):\n",
    "    print(f'Total assets at y={ys:.2f} ({100*pi[s]:.1f}% of hh)\\t: {np.vdot(a_grid, D[s, :]):.2f}')"
   ]
  },
  {
   "cell_type": "code",
   "execution_count": 206,
   "id": "balanced-mouse",
   "metadata": {},
   "outputs": [],
   "source": [
    "@numba.njit\n",
    "def expectation_policy(Xend, a_i, a_pi):\n",
    "    X = np.zeros_like(Xend)\n",
    "    for s in range(a_i.shape[0]):\n",
    "        for a in range(a_i.shape[1]):\n",
    "            # expectation is pi(s,a)*Xend(s,i(s,a)) + (1-pi(s,a))*Xend(s,i(s,a)+1)\n",
    "            X[s, a] = a_pi[s, a]*Xend[s, a_i[s, a]] + (1-a_pi[s, a])*Xend[s, a_i[s, a]+1]\n",
    "            \n",
    "    return X"
   ]
  },
  {
   "cell_type": "code",
   "execution_count": 227,
   "id": "sixth-warren",
   "metadata": {},
   "outputs": [],
   "source": [
    "def expectation_iteration(X, a_i, a_pi):\n",
    "    Xend = Pi @ X\n",
    "    return expectation_policy(Xend, a_i, a_pi)"
   ]
  },
  {
   "cell_type": "code",
   "execution_count": 225,
   "id": "connected-battlefield",
   "metadata": {},
   "outputs": [],
   "source": [
    "def expectation_vectors(X, a_i, a_pi, T):\n",
    "    # set up array of curlyEs and fill in first row with base case\n",
    "    curlyE = np.empty((T, ) + X.shape)\n",
    "    curlyE[0] = X\n",
    "    \n",
    "    # recursively apply law of iterated expectations\n",
    "    for j in range(1, T):\n",
    "        curlyE[j] = expectation_iteration(curlyE[j-1], a_i, a_pi)\n",
    "        \n",
    "    return curlyE"
   ]
  },
  {
   "cell_type": "code",
   "execution_count": 223,
   "id": "tender-clarity",
   "metadata": {},
   "outputs": [
    {
     "data": {
      "text/plain": [
       "(10, 500)"
      ]
     },
     "execution_count": 223,
     "metadata": {},
     "output_type": "execute_result"
    }
   ],
   "source": [
    "np.empty((10, ) + a_grid.shape).shape"
   ]
  },
  {
   "cell_type": "code",
   "execution_count": 228,
   "id": "aging-truth",
   "metadata": {},
   "outputs": [],
   "source": [
    "T = 40\n",
    "ctilde = c - np.vdot(D, c) # demeaned consumption\n",
    "E_ctilde = expectation_vectors(ctilde, a_i, a_pi, T) # expectation vectors for 0, ... , T-1"
   ]
  },
  {
   "cell_type": "code",
   "execution_count": 234,
   "id": "animated-sight",
   "metadata": {},
   "outputs": [
    {
     "data": {
      "text/plain": [
       "(7, 500)"
      ]
     },
     "execution_count": 234,
     "metadata": {},
     "output_type": "execute_result"
    }
   ],
   "source": [
    "E_ctilde[1].shape"
   ]
  },
  {
   "cell_type": "code",
   "execution_count": 235,
   "id": "executed-round",
   "metadata": {},
   "outputs": [],
   "source": [
    "Autocov_c = np.empty(T)\n",
    "for j in range(T):\n",
    "    Autocov_c[j] = np.vdot(D, ctilde * E_ctilde[j])"
   ]
  },
  {
   "cell_type": "code",
   "execution_count": 237,
   "id": "trying-accountability",
   "metadata": {},
   "outputs": [
    {
     "data": {
      "text/plain": [
       "(7, 500)"
      ]
     },
     "execution_count": 237,
     "metadata": {},
     "output_type": "execute_result"
    }
   ],
   "source": [
    "ctilde.shape "
   ]
  },
  {
   "cell_type": "code",
   "execution_count": 238,
   "id": "divine-marker",
   "metadata": {},
   "outputs": [
    {
     "data": {
      "text/plain": [
       "(7, 500)"
      ]
     },
     "execution_count": 238,
     "metadata": {},
     "output_type": "execute_result"
    }
   ],
   "source": [
    "E_ctilde[1].shape"
   ]
  },
  {
   "cell_type": "code",
   "execution_count": 240,
   "id": "broke-stuart",
   "metadata": {},
   "outputs": [
    {
     "data": {
      "text/plain": [
       "(7, 500)"
      ]
     },
     "execution_count": 240,
     "metadata": {},
     "output_type": "execute_result"
    }
   ],
   "source": [
    "(ctilde * E_ctilde[1]).shape"
   ]
  },
  {
   "cell_type": "code",
   "execution_count": 241,
   "id": "related-absorption",
   "metadata": {},
   "outputs": [
    {
     "data": {
      "text/plain": [
       "-0.8627918705676666"
      ]
     },
     "execution_count": 241,
     "metadata": {},
     "output_type": "execute_result"
    }
   ],
   "source": [
    "ctilde[0,0]"
   ]
  },
  {
   "cell_type": "code",
   "execution_count": 242,
   "id": "middle-allah",
   "metadata": {},
   "outputs": [
    {
     "data": {
      "text/plain": [
       "-0.854417640889327"
      ]
     },
     "execution_count": 242,
     "metadata": {},
     "output_type": "execute_result"
    }
   ],
   "source": [
    "E_ctilde[1][0,0]"
   ]
  },
  {
   "cell_type": "code",
   "execution_count": 243,
   "id": "handmade-playlist",
   "metadata": {},
   "outputs": [
    {
     "data": {
      "text/plain": [
       "0.7371845946289153"
      ]
     },
     "execution_count": 243,
     "metadata": {},
     "output_type": "execute_result"
    }
   ],
   "source": [
    "(ctilde * E_ctilde[1])[0,0]"
   ]
  },
  {
   "cell_type": "code",
   "execution_count": 245,
   "id": "aerial-purple",
   "metadata": {},
   "outputs": [
    {
     "data": {
      "text/plain": [
       "0.7444098119176531"
      ]
     },
     "execution_count": 245,
     "metadata": {},
     "output_type": "execute_result"
    }
   ],
   "source": [
    "ctilde[0,0]*E_ctilde[0][0,0]"
   ]
  },
  {
   "cell_type": "code",
   "execution_count": null,
   "id": "coordinate-omaha",
   "metadata": {},
   "outputs": [],
   "source": []
  }
 ],
 "metadata": {
  "kernelspec": {
   "display_name": "Python 3",
   "language": "python",
   "name": "python3"
  },
  "language_info": {
   "codemirror_mode": {
    "name": "ipython",
    "version": 3
   },
   "file_extension": ".py",
   "mimetype": "text/x-python",
   "name": "python",
   "nbconvert_exporter": "python",
   "pygments_lexer": "ipython3",
   "version": "3.8.5"
  },
  "toc": {
   "base_numbering": 1,
   "nav_menu": {},
   "number_sections": true,
   "sideBar": true,
   "skip_h1_title": false,
   "title_cell": "Table of Contents",
   "title_sidebar": "Contents",
   "toc_cell": false,
   "toc_position": {
    "height": "calc(100% - 180px)",
    "left": "10px",
    "top": "150px",
    "width": "291px"
   },
   "toc_section_display": true,
   "toc_window_display": true
  },
  "varInspector": {
   "cols": {
    "lenName": 16,
    "lenType": 16,
    "lenVar": 40
   },
   "kernels_config": {
    "python": {
     "delete_cmd_postfix": "",
     "delete_cmd_prefix": "del ",
     "library": "var_list.py",
     "varRefreshCmd": "print(var_dic_list())"
    },
    "r": {
     "delete_cmd_postfix": ") ",
     "delete_cmd_prefix": "rm(",
     "library": "var_list.r",
     "varRefreshCmd": "cat(var_dic_list()) "
    }
   },
   "types_to_exclude": [
    "module",
    "function",
    "builtin_function_or_method",
    "instance",
    "_Feature"
   ],
   "window_display": false
  }
 },
 "nbformat": 4,
 "nbformat_minor": 5
}
