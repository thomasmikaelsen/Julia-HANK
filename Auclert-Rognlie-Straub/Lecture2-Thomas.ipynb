{
 "cells": [
  {
   "cell_type": "markdown",
   "id": "governing-amateur",
   "metadata": {},
   "source": [
    "# The standard incomplete markets model: Dynamics\n",
    "\n",
    "By Thomas Mikaelsen, heavily based on Matt Rognlie's notebook https://conference.nber.org/confer/2022/MWs22/Lecture2.html"
   ]
  },
  {
   "cell_type": "code",
   "execution_count": 2,
   "id": "advance-closing",
   "metadata": {},
   "outputs": [
    {
     "name": "stdout",
     "output_type": "stream",
     "text": [
      "Ave assets at y = 0.14: 0.02\n",
      "Ave assets at y = 0.25: 0.05\n",
      "Ave assets at y = 0.44: 0.16\n",
      "Ave assets at y = 0.79: 0.56\n",
      "Ave assets at y = 1.39: 2.19\n",
      "Ave assets at y = 2.46: 7.01\n",
      "Ave assets at y = 4.36: 17.67\n",
      "Total assets at y = 0.14  (1.6% of hhs): 0.0\n",
      "Total assets at y = 0.25  (9.4% of hhs): 0.0\n",
      "Total assets at y = 0.44  (23.4% of hhs): 0.04\n",
      "Total assets at y = 0.79  (31.3% of hhs): 0.17\n",
      "Total assets at y = 1.39  (23.4% of hhs): 0.51\n",
      "Total assets at y = 2.46  (9.4% of hhs): 0.66\n",
      "Total assets at y = 4.36  (1.6% of hhs): 0.28\n"
     ]
    },
    {
     "ename": "LoadError",
     "evalue": "LoadError: InterruptException:\nin expression starting at /Users/thomasmikaelsen/Documents/Uni/Stockholm/Julia-HANK/Auclert-Rognlie-Straub/Lecture1-Aiyagari.jl:401",
     "output_type": "error",
     "traceback": [
      "LoadError: InterruptException:\nin expression starting at /Users/thomasmikaelsen/Documents/Uni/Stockholm/Julia-HANK/Auclert-Rognlie-Straub/Lecture1-Aiyagari.jl:401",
      "",
      "Stacktrace:",
      "  [1] ForwardPolicy(D::Matrix{Float64}, Lottery::Matrix{Tuple{Int64, Real}})",
      "    @ Main ~/Documents/Uni/Stockholm/Julia-HANK/Auclert-Rognlie-Straub/Lecture1-Aiyagari.jl:254",
      "  [2] ForwardIteration(D::Matrix{Float64}, P::Matrix{Float64}, Lottery::Matrix{Tuple{Int64, Real}})",
      "    @ Main ~/Documents/Uni/Stockholm/Julia-HANK/Auclert-Rognlie-Straub/Lecture1-Aiyagari.jl:272",
      "  [3] SSDistribution(P::Matrix{Float64}, apol::Matrix{Float64}, Agrid::Vector{Float64}, tol::Float64, maxiter::Int64)",
      "    @ Main ~/Documents/Uni/Stockholm/Julia-HANK/Auclert-Rognlie-Straub/Lecture1-Aiyagari.jl:289",
      "  [4] SSDistribution",
      "    @ ~/Documents/Uni/Stockholm/Julia-HANK/Auclert-Rognlie-Straub/Lecture1-Aiyagari.jl:281 [inlined]",
      "  [5] SteadyState(P::Matrix{Float64}, Agrid::Vector{Float64}, y::Vector{Float64}, r::Float64, β::Float64, σ::Int64)",
      "    @ Main ~/Documents/Uni/Stockholm/Julia-HANK/Auclert-Rognlie-Straub/Lecture1-Aiyagari.jl:342",
      "  [6] (::var\"#23#24\")(x::Float64)",
      "    @ Main ~/Documents/Uni/Stockholm/Julia-HANK/Auclert-Rognlie-Straub/Lecture1-Aiyagari.jl:401",
      "  [7] (::Roots.Callable_Function{Val{1}, Val{false}, var\"#23#24\", Nothing})(x::Float64)",
      "    @ Roots ~/.julia/packages/Roots/Ez3Om/src/functions.jl:28",
      "  [8] solve!(P::Roots.ZeroProblemIterator{Bisection, Nothing, Roots.Callable_Function{Val{1}, Val{false}, var\"#23#24\", Nothing}, Roots.UnivariateZeroState{Float64, Float64}, Roots.ExactOptions, Roots.NullTracks}; verbose::Bool)",
      "    @ Roots ~/.julia/packages/Roots/Ez3Om/src/Bracketing/bisection.jl:201",
      "  [9] solve(𝑭𝑿::ZeroProblem{var\"#23#24\", Matrix{Float64}}, M::Bisection, p::Nothing; verbose::Bool, kwargs::Base.Pairs{Symbol, Roots.NullTracks, Tuple{Symbol}, NamedTuple{(:tracks,), Tuple{Roots.NullTracks}}})",
      "    @ Roots ~/.julia/packages/Roots/Ez3Om/src/find_zero.jl:486",
      " [10] find_zero(f::Function, x0::Matrix{Float64}, M::Bisection, p′::Nothing; p::Nothing, verbose::Bool, tracks::Roots.NullTracks, kwargs::Base.Pairs{Symbol, Union{}, Tuple{}, NamedTuple{(), Tuple{}}})",
      "    @ Roots ~/.julia/packages/Roots/Ez3Om/src/find_zero.jl:216",
      " [11] find_zero (repeats 2 times)",
      "    @ ~/.julia/packages/Roots/Ez3Om/src/find_zero.jl:206 [inlined]",
      " [12] #find_zero#40",
      "    @ ~/.julia/packages/Roots/Ez3Om/src/find_zero.jl:239 [inlined]",
      " [13] find_zero(f::Function, x0::Matrix{Float64})",
      "    @ Roots ~/.julia/packages/Roots/Ez3Om/src/find_zero.jl:239",
      " [14] include(fname::String)",
      "    @ Base.MainInclude ./client.jl:476",
      " [15] eval",
      "    @ ./boot.jl:368 [inlined]",
      " [16] include_string(mapexpr::typeof(REPL.softscope), mod::Module, code::String, filename::String)",
      "    @ Base ./loading.jl:1428"
     ]
    }
   ],
   "source": [
    "# Import \n",
    "include(\"Lecture1-Aiyagari.jl\")"
   ]
  },
  {
   "cell_type": "code",
   "execution_count": null,
   "id": "adjacent-stanford",
   "metadata": {},
   "outputs": [],
   "source": []
  }
 ],
 "metadata": {
  "kernelspec": {
   "display_name": "Julia 1.8.1",
   "language": "julia",
   "name": "julia-1.8"
  },
  "language_info": {
   "file_extension": ".jl",
   "mimetype": "application/julia",
   "name": "julia",
   "version": "1.8.1"
  },
  "toc": {
   "base_numbering": 1,
   "nav_menu": {},
   "number_sections": true,
   "sideBar": true,
   "skip_h1_title": false,
   "title_cell": "Table of Contents",
   "title_sidebar": "Contents",
   "toc_cell": false,
   "toc_position": {},
   "toc_section_display": true,
   "toc_window_display": true
  },
  "varInspector": {
   "cols": {
    "lenName": 16,
    "lenType": 16,
    "lenVar": 40
   },
   "kernels_config": {
    "python": {
     "delete_cmd_postfix": "",
     "delete_cmd_prefix": "del ",
     "library": "var_list.py",
     "varRefreshCmd": "print(var_dic_list())"
    },
    "r": {
     "delete_cmd_postfix": ") ",
     "delete_cmd_prefix": "rm(",
     "library": "var_list.r",
     "varRefreshCmd": "cat(var_dic_list()) "
    }
   },
   "types_to_exclude": [
    "module",
    "function",
    "builtin_function_or_method",
    "instance",
    "_Feature"
   ],
   "window_display": false
  }
 },
 "nbformat": 4,
 "nbformat_minor": 5
}
